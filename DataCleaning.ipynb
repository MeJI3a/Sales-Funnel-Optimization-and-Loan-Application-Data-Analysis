{
 "cells": [
  {
   "cell_type": "markdown",
   "id": "7d9188fd-43d3-4ad8-82f6-950af5e94428",
   "metadata": {},
   "source": [
    "# **Introduction**\n",
    "\n",
    "## **Loan Application Data Cleaning Project**\n",
    "\n",
    "This project focuses on cleaning and preprocessing a loan application dataset to ensure data quality and usability for further analysis or modeling. The dataset includes records of loan applicants with features such as demographic details, financial information, and loan-related parameters. It also captures the status of the loan application, such as whether the loan was approved or rejected. \n",
    "\n",
    "Data cleaning and preprocessing are critical steps to ensure the dataset is free from inconsistencies, missing values, and irrelevant information. This project addresses the following key tasks:\n",
    "\n",
    "---\n",
    "\n",
    "## **Objectives**\n",
    "1. **Handle Missing Values**:\n",
    "   - Identify missing values in both categorical and numerical columns.\n",
    "   - Impute missing values with appropriate strategies, such as replacing with zeros, mean values, or \"Unknown\".\n",
    "   \n",
    "2. **Data Type Conversion**:\n",
    "   - Convert date columns (`DOB`, `Lead_Creation_Date`) to `datetime` format.\n",
    "   - Ensure numerical columns such as `Loan_Amount`, `EMI`, and `Interest_Rate` are treated as numeric.\n",
    "\n",
    "3. **Remove Duplicates**:\n",
    "   - Detect and drop duplicate rows to avoid redundant information in the dataset.\n",
    "\n",
    "4. **Standardize Data**:\n",
    "   - Replace empty strings and undefined values with consistent placeholders like `NaN` or \"Unknown\".\n",
    "   - Format all categorical and numerical columns appropriately for analysis.\n",
    "\n",
    "5. **Save Cleaned Dataset**:\n",
    "   - Save the cleaned dataset to a new CSV file for subsequent use in analysis or modeling.\n",
    "\n",
    "---\n",
    "\n",
    "## **Dataset Overview**\n",
    "- **Number of Entries**: 69,713\n",
    "- **Number of Columns**: 22\n",
    "- **Key Features**:\n",
    "  - **Demographic Information**: `Gender`, `DOB`, `City_Code`, `City_Category`\n",
    "  - **Financial Information**: `Monthly_Income`, `Existing_EMI`, `Loan_Amount`, `Interest_Rate`, `EMI`\n",
    "  - **Application Status**: `Approved`\n",
    "  - **Additional Metadata**: `Lead_Creation_Date`, `Employer_Code`, `Source`\n",
    "\n",
    "---"
   ]
  },
  {
   "cell_type": "code",
   "execution_count": 1,
   "id": "81740029-5db3-401c-a0db-42daaa84cb3c",
   "metadata": {},
   "outputs": [],
   "source": [
    "import pandas as pd\n",
    "import numpy as np"
   ]
  },
  {
   "cell_type": "code",
   "execution_count": 3,
   "id": "91c45a48-5d18-46f1-99ed-2f7b16fd9ded",
   "metadata": {},
   "outputs": [
    {
     "data": {
      "text/html": [
       "<div>\n",
       "<style scoped>\n",
       "    .dataframe tbody tr th:only-of-type {\n",
       "        vertical-align: middle;\n",
       "    }\n",
       "\n",
       "    .dataframe tbody tr th {\n",
       "        vertical-align: top;\n",
       "    }\n",
       "\n",
       "    .dataframe thead th {\n",
       "        text-align: right;\n",
       "    }\n",
       "</style>\n",
       "<table border=\"1\" class=\"dataframe\">\n",
       "  <thead>\n",
       "    <tr style=\"text-align: right;\">\n",
       "      <th></th>\n",
       "      <th>ID</th>\n",
       "      <th>Gender</th>\n",
       "      <th>DOB</th>\n",
       "      <th>Lead_Creation_Date</th>\n",
       "      <th>City_Code</th>\n",
       "      <th>City_Category</th>\n",
       "      <th>Employer_Code</th>\n",
       "      <th>Employer_Category1</th>\n",
       "      <th>Employer_Category2</th>\n",
       "      <th>Monthly_Income</th>\n",
       "      <th>...</th>\n",
       "      <th>Contacted</th>\n",
       "      <th>Source</th>\n",
       "      <th>Source_Category</th>\n",
       "      <th>Existing_EMI</th>\n",
       "      <th>Loan_Amount</th>\n",
       "      <th>Loan_Period</th>\n",
       "      <th>Interest_Rate</th>\n",
       "      <th>EMI</th>\n",
       "      <th>Var1</th>\n",
       "      <th>Approved</th>\n",
       "    </tr>\n",
       "  </thead>\n",
       "  <tbody>\n",
       "    <tr>\n",
       "      <th>0</th>\n",
       "      <td>APPC90493171225</td>\n",
       "      <td>Female</td>\n",
       "      <td>23/07/79</td>\n",
       "      <td>15/07/16</td>\n",
       "      <td>C10001</td>\n",
       "      <td>A</td>\n",
       "      <td>COM0044082</td>\n",
       "      <td>A</td>\n",
       "      <td>4.0</td>\n",
       "      <td>2000.0</td>\n",
       "      <td>...</td>\n",
       "      <td>N</td>\n",
       "      <td>S122</td>\n",
       "      <td>G</td>\n",
       "      <td>0.0</td>\n",
       "      <td>NaN</td>\n",
       "      <td>NaN</td>\n",
       "      <td>NaN</td>\n",
       "      <td>NaN</td>\n",
       "      <td>0</td>\n",
       "      <td>0</td>\n",
       "    </tr>\n",
       "    <tr>\n",
       "      <th>1</th>\n",
       "      <td>APPD40611263344</td>\n",
       "      <td>Male</td>\n",
       "      <td>07/12/86</td>\n",
       "      <td>04/07/16</td>\n",
       "      <td>C10003</td>\n",
       "      <td>A</td>\n",
       "      <td>COM0000002</td>\n",
       "      <td>C</td>\n",
       "      <td>1.0</td>\n",
       "      <td>3500.0</td>\n",
       "      <td>...</td>\n",
       "      <td>Y</td>\n",
       "      <td>S122</td>\n",
       "      <td>G</td>\n",
       "      <td>0.0</td>\n",
       "      <td>20000.0</td>\n",
       "      <td>2.0</td>\n",
       "      <td>13.25</td>\n",
       "      <td>953.0</td>\n",
       "      <td>10</td>\n",
       "      <td>0</td>\n",
       "    </tr>\n",
       "    <tr>\n",
       "      <th>2</th>\n",
       "      <td>APPE70289249423</td>\n",
       "      <td>Male</td>\n",
       "      <td>10/12/82</td>\n",
       "      <td>19/07/16</td>\n",
       "      <td>C10125</td>\n",
       "      <td>C</td>\n",
       "      <td>COM0005267</td>\n",
       "      <td>C</td>\n",
       "      <td>4.0</td>\n",
       "      <td>2250.0</td>\n",
       "      <td>...</td>\n",
       "      <td>Y</td>\n",
       "      <td>S143</td>\n",
       "      <td>B</td>\n",
       "      <td>0.0</td>\n",
       "      <td>45000.0</td>\n",
       "      <td>4.0</td>\n",
       "      <td>NaN</td>\n",
       "      <td>NaN</td>\n",
       "      <td>0</td>\n",
       "      <td>0</td>\n",
       "    </tr>\n",
       "    <tr>\n",
       "      <th>3</th>\n",
       "      <td>APPF80273865537</td>\n",
       "      <td>Male</td>\n",
       "      <td>30/01/89</td>\n",
       "      <td>09/07/16</td>\n",
       "      <td>C10477</td>\n",
       "      <td>C</td>\n",
       "      <td>COM0004143</td>\n",
       "      <td>A</td>\n",
       "      <td>4.0</td>\n",
       "      <td>3500.0</td>\n",
       "      <td>...</td>\n",
       "      <td>Y</td>\n",
       "      <td>S143</td>\n",
       "      <td>B</td>\n",
       "      <td>0.0</td>\n",
       "      <td>92000.0</td>\n",
       "      <td>5.0</td>\n",
       "      <td>NaN</td>\n",
       "      <td>NaN</td>\n",
       "      <td>7</td>\n",
       "      <td>0</td>\n",
       "    </tr>\n",
       "    <tr>\n",
       "      <th>4</th>\n",
       "      <td>APPG60994436641</td>\n",
       "      <td>Male</td>\n",
       "      <td>19/04/85</td>\n",
       "      <td>20/07/16</td>\n",
       "      <td>C10002</td>\n",
       "      <td>A</td>\n",
       "      <td>COM0001781</td>\n",
       "      <td>A</td>\n",
       "      <td>4.0</td>\n",
       "      <td>10000.0</td>\n",
       "      <td>...</td>\n",
       "      <td>Y</td>\n",
       "      <td>S134</td>\n",
       "      <td>B</td>\n",
       "      <td>2500.0</td>\n",
       "      <td>50000.0</td>\n",
       "      <td>2.0</td>\n",
       "      <td>NaN</td>\n",
       "      <td>NaN</td>\n",
       "      <td>10</td>\n",
       "      <td>0</td>\n",
       "    </tr>\n",
       "  </tbody>\n",
       "</table>\n",
       "<p>5 rows × 22 columns</p>\n",
       "</div>"
      ],
      "text/plain": [
       "                ID  Gender       DOB Lead_Creation_Date City_Code  \\\n",
       "0  APPC90493171225  Female  23/07/79           15/07/16    C10001   \n",
       "1  APPD40611263344    Male  07/12/86           04/07/16    C10003   \n",
       "2  APPE70289249423    Male  10/12/82           19/07/16    C10125   \n",
       "3  APPF80273865537    Male  30/01/89           09/07/16    C10477   \n",
       "4  APPG60994436641    Male  19/04/85           20/07/16    C10002   \n",
       "\n",
       "  City_Category Employer_Code Employer_Category1  Employer_Category2  \\\n",
       "0             A    COM0044082                  A                 4.0   \n",
       "1             A    COM0000002                  C                 1.0   \n",
       "2             C    COM0005267                  C                 4.0   \n",
       "3             C    COM0004143                  A                 4.0   \n",
       "4             A    COM0001781                  A                 4.0   \n",
       "\n",
       "   Monthly_Income  ... Contacted Source Source_Category Existing_EMI  \\\n",
       "0          2000.0  ...         N   S122               G          0.0   \n",
       "1          3500.0  ...         Y   S122               G          0.0   \n",
       "2          2250.0  ...         Y   S143               B          0.0   \n",
       "3          3500.0  ...         Y   S143               B          0.0   \n",
       "4         10000.0  ...         Y   S134               B       2500.0   \n",
       "\n",
       "  Loan_Amount  Loan_Period  Interest_Rate    EMI  Var1  Approved  \n",
       "0         NaN          NaN            NaN    NaN     0         0  \n",
       "1     20000.0          2.0          13.25  953.0    10         0  \n",
       "2     45000.0          4.0            NaN    NaN     0         0  \n",
       "3     92000.0          5.0            NaN    NaN     7         0  \n",
       "4     50000.0          2.0            NaN    NaN    10         0  \n",
       "\n",
       "[5 rows x 22 columns]"
      ]
     },
     "execution_count": 3,
     "metadata": {},
     "output_type": "execute_result"
    }
   ],
   "source": [
    "df = pd.read_csv(r\"C:\\Users\\Zana\\Desktop\\portfolio_projects\\project_10\\train.csv\", encoding='windows-1252')\n",
    "df.head()"
   ]
  },
  {
   "cell_type": "code",
   "execution_count": 4,
   "id": "cdf20335-633e-4cc5-a48b-02c578ac1aaf",
   "metadata": {},
   "outputs": [
    {
     "name": "stdout",
     "output_type": "stream",
     "text": [
      "<class 'pandas.core.frame.DataFrame'>\n",
      "RangeIndex: 69713 entries, 0 to 69712\n",
      "Data columns (total 22 columns):\n",
      " #   Column                               Non-Null Count  Dtype  \n",
      "---  ------                               --------------  -----  \n",
      " 0   ID                                   69713 non-null  object \n",
      " 1   Gender                               69713 non-null  object \n",
      " 2   DOB                                  69698 non-null  object \n",
      " 3   Lead_Creation_Date                   69713 non-null  object \n",
      " 4   City_Code                            68899 non-null  object \n",
      " 5   City_Category                        68899 non-null  object \n",
      " 6   Employer_Code                        65695 non-null  object \n",
      " 7   Employer_Category1                   65695 non-null  object \n",
      " 8   Employer_Category2                   65415 non-null  float64\n",
      " 9   Monthly_Income                       69713 non-null  float64\n",
      " 10  Customer_Existing_Primary_Bank_Code  60322 non-null  object \n",
      " 11  Primary_Bank_Type                    60322 non-null  object \n",
      " 12  Contacted                            69713 non-null  object \n",
      " 13  Source                               69713 non-null  object \n",
      " 14  Source_Category                      69713 non-null  object \n",
      " 15  Existing_EMI                         69662 non-null  float64\n",
      " 16  Loan_Amount                          42004 non-null  float64\n",
      " 17  Loan_Period                          42004 non-null  float64\n",
      " 18  Interest_Rate                        22276 non-null  float64\n",
      " 19  EMI                                  22276 non-null  float64\n",
      " 20  Var1                                 69713 non-null  int64  \n",
      " 21  Approved                             69713 non-null  int64  \n",
      "dtypes: float64(7), int64(2), object(13)\n",
      "memory usage: 11.7+ MB\n"
     ]
    },
    {
     "data": {
      "text/plain": [
       "ID                                         0\n",
       "Gender                                     0\n",
       "DOB                                       15\n",
       "Lead_Creation_Date                         0\n",
       "City_Code                                814\n",
       "City_Category                            814\n",
       "Employer_Code                           4018\n",
       "Employer_Category1                      4018\n",
       "Employer_Category2                      4298\n",
       "Monthly_Income                             0\n",
       "Customer_Existing_Primary_Bank_Code     9391\n",
       "Primary_Bank_Type                       9391\n",
       "Contacted                                  0\n",
       "Source                                     0\n",
       "Source_Category                            0\n",
       "Existing_EMI                              51\n",
       "Loan_Amount                            27709\n",
       "Loan_Period                            27709\n",
       "Interest_Rate                          47437\n",
       "EMI                                    47437\n",
       "Var1                                       0\n",
       "Approved                                   0\n",
       "dtype: int64"
      ]
     },
     "execution_count": 4,
     "metadata": {},
     "output_type": "execute_result"
    }
   ],
   "source": [
    "# Overview of the dataframe\n",
    "df.info()\n",
    "\n",
    "# First few rows of the data\n",
    "df.head()\n",
    "\n",
    "# Checking for missing values\n",
    "df.isnull().sum()"
   ]
  },
  {
   "cell_type": "code",
   "execution_count": 5,
   "id": "377ca01d-4108-435e-9245-711071f6f5ba",
   "metadata": {},
   "outputs": [
    {
     "name": "stdout",
     "output_type": "stream",
     "text": [
      "         DOB Lead_Creation_Date\n",
      "0 1979-07-23         2016-07-15\n",
      "1 1986-12-07         2016-07-04\n",
      "2 1982-12-10         2016-07-19\n",
      "3 1989-01-30         2016-07-09\n",
      "4 1985-04-19         2016-07-20\n"
     ]
    }
   ],
   "source": [
    "# Convert 'DOB' and 'Lead_Creation_Date' to datetime\n",
    "df['DOB'] = pd.to_datetime(df['DOB'], format='%d/%m/%y', errors='coerce')\n",
    "df['Lead_Creation_Date'] = pd.to_datetime(df['Lead_Creation_Date'], format='%d/%m/%y', errors='coerce')\n",
    "\n",
    "# Inspect the first few rows to ensure the conversion worked\n",
    "print(df[['DOB', 'Lead_Creation_Date']].head())"
   ]
  },
  {
   "cell_type": "code",
   "execution_count": 6,
   "id": "390a44ae-3a66-40e2-8d47-678a40e368ec",
   "metadata": {},
   "outputs": [
    {
     "name": "stdout",
     "output_type": "stream",
     "text": [
      "DataFrame shape after removing duplicates: (69713, 22)\n"
     ]
    }
   ],
   "source": [
    "# Remove duplicate rows (if any) based on all columns\n",
    "df.drop_duplicates(inplace=True)\n",
    "\n",
    "# Alternatively, if you want to drop duplicates based on a specific column like 'ID'\n",
    "# df.drop_duplicates(subset=['ID'], inplace=True)\n",
    "\n",
    "# Confirm that duplicates are removed by checking the shape\n",
    "print(f\"DataFrame shape after removing duplicates: {df.shape}\")"
   ]
  },
  {
   "cell_type": "code",
   "execution_count": 7,
   "id": "ab9f1591-ec20-41ee-8a71-f9cd7069166d",
   "metadata": {},
   "outputs": [
    {
     "name": "stdout",
     "output_type": "stream",
     "text": [
      "<class 'pandas.core.frame.DataFrame'>\n",
      "RangeIndex: 69713 entries, 0 to 69712\n",
      "Data columns (total 22 columns):\n",
      " #   Column                               Non-Null Count  Dtype         \n",
      "---  ------                               --------------  -----         \n",
      " 0   ID                                   69713 non-null  object        \n",
      " 1   Gender                               69713 non-null  object        \n",
      " 2   DOB                                  69698 non-null  datetime64[ns]\n",
      " 3   Lead_Creation_Date                   69713 non-null  datetime64[ns]\n",
      " 4   City_Code                            68899 non-null  object        \n",
      " 5   City_Category                        68899 non-null  object        \n",
      " 6   Employer_Code                        65695 non-null  object        \n",
      " 7   Employer_Category1                   65695 non-null  object        \n",
      " 8   Employer_Category2                   65415 non-null  float64       \n",
      " 9   Monthly_Income                       69713 non-null  float64       \n",
      " 10  Customer_Existing_Primary_Bank_Code  60322 non-null  object        \n",
      " 11  Primary_Bank_Type                    60322 non-null  object        \n",
      " 12  Contacted                            69713 non-null  object        \n",
      " 13  Source                               69713 non-null  object        \n",
      " 14  Source_Category                      69713 non-null  object        \n",
      " 15  Existing_EMI                         69662 non-null  float64       \n",
      " 16  Loan_Amount                          42004 non-null  float64       \n",
      " 17  Loan_Period                          42004 non-null  float64       \n",
      " 18  Interest_Rate                        22276 non-null  float64       \n",
      " 19  EMI                                  22276 non-null  float64       \n",
      " 20  Var1                                 69713 non-null  int64         \n",
      " 21  Approved                             69713 non-null  int64         \n",
      "dtypes: datetime64[ns](2), float64(7), int64(2), object(11)\n",
      "memory usage: 11.7+ MB\n"
     ]
    }
   ],
   "source": [
    "df.info()"
   ]
  },
  {
   "cell_type": "code",
   "execution_count": 9,
   "id": "1c76365f-fc6c-49f3-a439-95c1794e2b04",
   "metadata": {},
   "outputs": [],
   "source": [
    "# Save the cleaned DataFrame to a CSV file\n",
    "df.to_csv(r\"C:/ProgramData/MySQL/MySQL Server 8.0/Uploads/cleaned_loanData.csv\", index=False)"
   ]
  },
  {
   "cell_type": "code",
   "execution_count": 11,
   "id": "378e180b-4314-4baa-8e70-d549495a8e6a",
   "metadata": {},
   "outputs": [
    {
     "data": {
      "text/plain": [
       "Index(['ID', 'Gender', 'DOB', 'Lead_Creation_Date', 'City_Code',\n",
       "       'City_Category', 'Employer_Code', 'Employer_Category1',\n",
       "       'Employer_Category2', 'Monthly_Income',\n",
       "       'Customer_Existing_Primary_Bank_Code', 'Primary_Bank_Type', 'Contacted',\n",
       "       'Source', 'Source_Category', 'Existing_EMI', 'Loan_Amount',\n",
       "       'Loan_Period', 'Interest_Rate', 'EMI', 'Var1', 'Approved'],\n",
       "      dtype='object')"
      ]
     },
     "execution_count": 11,
     "metadata": {},
     "output_type": "execute_result"
    }
   ],
   "source": [
    "df.columns"
   ]
  },
  {
   "cell_type": "code",
   "execution_count": 12,
   "id": "ef88e813-370a-4860-a2b0-41831b97217c",
   "metadata": {},
   "outputs": [
    {
     "data": {
      "text/html": [
       "<div>\n",
       "<style scoped>\n",
       "    .dataframe tbody tr th:only-of-type {\n",
       "        vertical-align: middle;\n",
       "    }\n",
       "\n",
       "    .dataframe tbody tr th {\n",
       "        vertical-align: top;\n",
       "    }\n",
       "\n",
       "    .dataframe thead th {\n",
       "        text-align: right;\n",
       "    }\n",
       "</style>\n",
       "<table border=\"1\" class=\"dataframe\">\n",
       "  <thead>\n",
       "    <tr style=\"text-align: right;\">\n",
       "      <th></th>\n",
       "      <th>ID</th>\n",
       "      <th>Gender</th>\n",
       "      <th>DOB</th>\n",
       "      <th>Lead_Creation_Date</th>\n",
       "      <th>City_Code</th>\n",
       "      <th>City_Category</th>\n",
       "      <th>Employer_Code</th>\n",
       "      <th>Employer_Category1</th>\n",
       "      <th>Employer_Category2</th>\n",
       "      <th>Monthly_Income</th>\n",
       "      <th>...</th>\n",
       "      <th>Contacted</th>\n",
       "      <th>Source</th>\n",
       "      <th>Source_Category</th>\n",
       "      <th>Existing_EMI</th>\n",
       "      <th>Loan_Amount</th>\n",
       "      <th>Loan_Period</th>\n",
       "      <th>Interest_Rate</th>\n",
       "      <th>EMI</th>\n",
       "      <th>Var1</th>\n",
       "      <th>Approved</th>\n",
       "    </tr>\n",
       "  </thead>\n",
       "  <tbody>\n",
       "    <tr>\n",
       "      <th>0</th>\n",
       "      <td>APPC90493171225</td>\n",
       "      <td>Female</td>\n",
       "      <td>1979-07-23</td>\n",
       "      <td>2016-07-15</td>\n",
       "      <td>C10001</td>\n",
       "      <td>A</td>\n",
       "      <td>COM0044082</td>\n",
       "      <td>A</td>\n",
       "      <td>4.0</td>\n",
       "      <td>2000.0</td>\n",
       "      <td>...</td>\n",
       "      <td>N</td>\n",
       "      <td>S122</td>\n",
       "      <td>G</td>\n",
       "      <td>0.0</td>\n",
       "      <td>NaN</td>\n",
       "      <td>NaN</td>\n",
       "      <td>NaN</td>\n",
       "      <td>NaN</td>\n",
       "      <td>0</td>\n",
       "      <td>0</td>\n",
       "    </tr>\n",
       "    <tr>\n",
       "      <th>1</th>\n",
       "      <td>APPD40611263344</td>\n",
       "      <td>Male</td>\n",
       "      <td>1986-12-07</td>\n",
       "      <td>2016-07-04</td>\n",
       "      <td>C10003</td>\n",
       "      <td>A</td>\n",
       "      <td>COM0000002</td>\n",
       "      <td>C</td>\n",
       "      <td>1.0</td>\n",
       "      <td>3500.0</td>\n",
       "      <td>...</td>\n",
       "      <td>Y</td>\n",
       "      <td>S122</td>\n",
       "      <td>G</td>\n",
       "      <td>0.0</td>\n",
       "      <td>20000.0</td>\n",
       "      <td>2.0</td>\n",
       "      <td>13.25</td>\n",
       "      <td>953.0</td>\n",
       "      <td>10</td>\n",
       "      <td>0</td>\n",
       "    </tr>\n",
       "    <tr>\n",
       "      <th>2</th>\n",
       "      <td>APPE70289249423</td>\n",
       "      <td>Male</td>\n",
       "      <td>1982-12-10</td>\n",
       "      <td>2016-07-19</td>\n",
       "      <td>C10125</td>\n",
       "      <td>C</td>\n",
       "      <td>COM0005267</td>\n",
       "      <td>C</td>\n",
       "      <td>4.0</td>\n",
       "      <td>2250.0</td>\n",
       "      <td>...</td>\n",
       "      <td>Y</td>\n",
       "      <td>S143</td>\n",
       "      <td>B</td>\n",
       "      <td>0.0</td>\n",
       "      <td>45000.0</td>\n",
       "      <td>4.0</td>\n",
       "      <td>NaN</td>\n",
       "      <td>NaN</td>\n",
       "      <td>0</td>\n",
       "      <td>0</td>\n",
       "    </tr>\n",
       "    <tr>\n",
       "      <th>3</th>\n",
       "      <td>APPF80273865537</td>\n",
       "      <td>Male</td>\n",
       "      <td>1989-01-30</td>\n",
       "      <td>2016-07-09</td>\n",
       "      <td>C10477</td>\n",
       "      <td>C</td>\n",
       "      <td>COM0004143</td>\n",
       "      <td>A</td>\n",
       "      <td>4.0</td>\n",
       "      <td>3500.0</td>\n",
       "      <td>...</td>\n",
       "      <td>Y</td>\n",
       "      <td>S143</td>\n",
       "      <td>B</td>\n",
       "      <td>0.0</td>\n",
       "      <td>92000.0</td>\n",
       "      <td>5.0</td>\n",
       "      <td>NaN</td>\n",
       "      <td>NaN</td>\n",
       "      <td>7</td>\n",
       "      <td>0</td>\n",
       "    </tr>\n",
       "    <tr>\n",
       "      <th>4</th>\n",
       "      <td>APPG60994436641</td>\n",
       "      <td>Male</td>\n",
       "      <td>1985-04-19</td>\n",
       "      <td>2016-07-20</td>\n",
       "      <td>C10002</td>\n",
       "      <td>A</td>\n",
       "      <td>COM0001781</td>\n",
       "      <td>A</td>\n",
       "      <td>4.0</td>\n",
       "      <td>10000.0</td>\n",
       "      <td>...</td>\n",
       "      <td>Y</td>\n",
       "      <td>S134</td>\n",
       "      <td>B</td>\n",
       "      <td>2500.0</td>\n",
       "      <td>50000.0</td>\n",
       "      <td>2.0</td>\n",
       "      <td>NaN</td>\n",
       "      <td>NaN</td>\n",
       "      <td>10</td>\n",
       "      <td>0</td>\n",
       "    </tr>\n",
       "  </tbody>\n",
       "</table>\n",
       "<p>5 rows × 22 columns</p>\n",
       "</div>"
      ],
      "text/plain": [
       "                ID  Gender         DOB Lead_Creation_Date City_Code  \\\n",
       "0  APPC90493171225  Female  1979-07-23         2016-07-15    C10001   \n",
       "1  APPD40611263344    Male  1986-12-07         2016-07-04    C10003   \n",
       "2  APPE70289249423    Male  1982-12-10         2016-07-19    C10125   \n",
       "3  APPF80273865537    Male  1989-01-30         2016-07-09    C10477   \n",
       "4  APPG60994436641    Male  1985-04-19         2016-07-20    C10002   \n",
       "\n",
       "  City_Category Employer_Code Employer_Category1  Employer_Category2  \\\n",
       "0             A    COM0044082                  A                 4.0   \n",
       "1             A    COM0000002                  C                 1.0   \n",
       "2             C    COM0005267                  C                 4.0   \n",
       "3             C    COM0004143                  A                 4.0   \n",
       "4             A    COM0001781                  A                 4.0   \n",
       "\n",
       "   Monthly_Income  ... Contacted Source Source_Category Existing_EMI  \\\n",
       "0          2000.0  ...         N   S122               G          0.0   \n",
       "1          3500.0  ...         Y   S122               G          0.0   \n",
       "2          2250.0  ...         Y   S143               B          0.0   \n",
       "3          3500.0  ...         Y   S143               B          0.0   \n",
       "4         10000.0  ...         Y   S134               B       2500.0   \n",
       "\n",
       "  Loan_Amount  Loan_Period  Interest_Rate    EMI  Var1  Approved  \n",
       "0         NaN          NaN            NaN    NaN     0         0  \n",
       "1     20000.0          2.0          13.25  953.0    10         0  \n",
       "2     45000.0          4.0            NaN    NaN     0         0  \n",
       "3     92000.0          5.0            NaN    NaN     7         0  \n",
       "4     50000.0          2.0            NaN    NaN    10         0  \n",
       "\n",
       "[5 rows x 22 columns]"
      ]
     },
     "execution_count": 12,
     "metadata": {},
     "output_type": "execute_result"
    }
   ],
   "source": [
    "import pandas as pd\n",
    "\n",
    "# Load the cleaned CSV into a DataFrame\n",
    "df = pd.read_csv(r'C:/ProgramData/MySQL/MySQL Server 8.0/Uploads/cleaned_loanData.csv')\n",
    "\n",
    "# Display the first few rows to check the data\n",
    "df.head()\n"
   ]
  },
  {
   "cell_type": "code",
   "execution_count": 13,
   "id": "5ea55085-5631-48d9-814d-13183240631d",
   "metadata": {},
   "outputs": [
    {
     "name": "stdout",
     "output_type": "stream",
     "text": [
      "[    nan  20000.  45000.  92000.  50000. 130000.  30000.  66000. 104000.\n",
      "  74000.  26000. 100000.  98000.  40000.  69000.  36000. 180000.  61000.\n",
      "  60000.  56000.   5000.  44000.  10000.  94000.  11000.  29000.  24000.\n",
      "  35000.  37000.  54000.  59000.  32000.  64000.  95000.  38000. 240000.\n",
      " 116000.  25000.  28000.  41000.  17000.  15000.  70000.  49000.  51000.\n",
      "  33000.  63000.  68000. 112000.  47000.  88000.  43000. 150000.  62000.\n",
      "  34000.  39000.  42000.  72000.  82000.  22000. 107000.  52000.  85000.\n",
      "  31000.   8000.  79000.  57000.  65000. 120000.  12000.  84000. 230000.\n",
      " 108000.  77000. 101000. 110000.  14000.  21000.  99000.  80000.  53000.\n",
      "  96000.  27000.  23000.  13000. 181000.  19000.  46000. 200000.  73000.\n",
      " 126000.  48000.  55000.  81000. 137000.  93000.  18000.   7000.  91000.\n",
      "  58000.  71000. 119000. 139000.  90000.   6000. 250000. 117000. 105000.\n",
      "  75000. 118000. 158000.  97000. 153000.  16000.  87000. 237000.  67000.\n",
      "  89000. 160000.  86000. 102000. 114000. 163000.  83000. 208000. 144000.\n",
      "  78000. 121000. 132000.  76000. 109000.   9000. 198000. 162000. 133000.\n",
      " 172000. 145000. 188000. 143000. 111000. 199000. 125000. 124000. 167000.\n",
      " 147000. 113000. 115000. 103000. 127000. 128000. 142000. 106000. 140000.\n",
      " 146000. 186000. 164000. 131000. 189000. 241000. 173000. 135000. 174000.\n",
      " 149000. 157000. 177000. 136000. 122000. 193000. 148000. 247000. 229000.\n",
      " 214000. 166000. 170000. 197000. 159000. 227000. 141000. 138000. 155000.\n",
      " 175000. 300000. 257000. 225000. 161000. 203000. 191000. 234000. 169000.\n",
      " 123000. 246000. 264000. 134000. 248000. 152000. 185000. 210000.]\n"
     ]
    }
   ],
   "source": [
    "# Check for non-numeric values and missing data in 'Loan_Amount'\n",
    "print(df['Loan_Amount'].unique())"
   ]
  },
  {
   "cell_type": "code",
   "execution_count": 14,
   "id": "8ac6cb2c-a193-4ff4-80ac-adcae55a7203",
   "metadata": {},
   "outputs": [
    {
     "name": "stderr",
     "output_type": "stream",
     "text": [
      "C:\\Users\\Zana\\AppData\\Local\\Temp\\ipykernel_15796\\1423643972.py:2: FutureWarning: A value is trying to be set on a copy of a DataFrame or Series through chained assignment using an inplace method.\n",
      "The behavior will change in pandas 3.0. This inplace method will never work because the intermediate object on which we are setting values always behaves as a copy.\n",
      "\n",
      "For example, when doing 'df[col].method(value, inplace=True)', try using 'df.method({col: value}, inplace=True)' or df[col] = df[col].method(value) instead, to perform the operation inplace on the original object.\n",
      "\n",
      "\n",
      "  df['Loan_Amount'].fillna(0, inplace=True)\n"
     ]
    }
   ],
   "source": [
    "# Replace NaN values in Loan_Amount with 0\n",
    "df['Loan_Amount'].fillna(0, inplace=True)"
   ]
  },
  {
   "cell_type": "code",
   "execution_count": 15,
   "id": "1eb14e3c-0a2c-4ec2-98b2-1afddc3cc10a",
   "metadata": {},
   "outputs": [],
   "source": [
    "# Fill NaN values in 'Loan_Amount' and assign back to the column explicitly\n",
    "df['Loan_Amount'] = df['Loan_Amount'].fillna(0)"
   ]
  },
  {
   "cell_type": "code",
   "execution_count": 16,
   "id": "3594bf59-1787-49d0-a9a6-ded7b355d08f",
   "metadata": {},
   "outputs": [],
   "source": [
    "df.to_csv(r\"C:/ProgramData/MySQL/MySQL Server 8.0/Uploads/cleaned_loanData.csv\", index=False)"
   ]
  },
  {
   "cell_type": "code",
   "execution_count": 17,
   "id": "8aba481b-f98e-40c5-96e4-8770f0f71530",
   "metadata": {},
   "outputs": [
    {
     "name": "stdout",
     "output_type": "stream",
     "text": [
      "[nan  2.  4.  5.  3.  1.  6.]\n"
     ]
    }
   ],
   "source": [
    "# Check the unique values in the 'Loan_Period' column\n",
    "print(df['Loan_Period'].unique())"
   ]
  },
  {
   "cell_type": "code",
   "execution_count": 18,
   "id": "8fd85eff-8e7d-4f7e-8865-23baf95bf029",
   "metadata": {},
   "outputs": [],
   "source": [
    "# Replace NaN values in 'Loan_Period' with 0\n",
    "df['Loan_Period'] = df['Loan_Period'].fillna(0)"
   ]
  },
  {
   "cell_type": "code",
   "execution_count": 19,
   "id": "077ad588-c269-4d1f-b0c2-65d9b6b583c2",
   "metadata": {},
   "outputs": [],
   "source": [
    "df.to_csv(r\"C:/ProgramData/MySQL/MySQL Server 8.0/Uploads/cleaned_loanData.csv\", index=False)"
   ]
  },
  {
   "cell_type": "code",
   "execution_count": 20,
   "id": "ed4cfe6c-742d-4c97-8f0d-5862658b2a24",
   "metadata": {},
   "outputs": [
    {
     "name": "stdout",
     "output_type": "stream",
     "text": [
      "Unique values in ID:\n",
      "['APPC90493171225' 'APPD40611263344' 'APPE70289249423' ...\n",
      " 'APPW50697209842' 'APPY50870035036' 'APPZ60733046119']\n",
      "\n",
      "\n",
      "Unique values in Gender:\n",
      "['Female' 'Male']\n",
      "\n",
      "\n",
      "Unique values in DOB:\n",
      "['1979-07-23' '1986-12-07' '1982-12-10' ... '1969-04-19' '1971-01-27'\n",
      " '1978-06-27']\n",
      "\n",
      "\n",
      "Unique values in Lead_Creation_Date:\n",
      "['2016-07-15' '2016-07-04' '2016-07-19' '2016-07-09' '2016-07-20'\n",
      " '2016-07-01' '2016-07-02' '2016-07-03' '2016-07-08' '2016-07-12'\n",
      " '2016-07-07' '2016-07-05' '2016-07-10' '2016-07-06' '2016-07-11'\n",
      " '2016-07-26' '2016-07-13' '2016-07-17' '2016-07-21' '2016-07-18'\n",
      " '2016-07-24' '2016-07-14' '2016-07-16' '2016-07-27' '2016-07-25'\n",
      " '2016-07-23' '2016-07-22' '2016-07-30' '2016-07-28' '2016-07-29'\n",
      " '2016-07-31' '2016-08-01' '2016-08-27' '2016-08-02' '2016-08-11'\n",
      " '2016-08-06' '2016-08-03' '2016-08-07' '2016-08-04' '2016-08-10'\n",
      " '2016-08-19' '2016-08-05' '2016-08-14' '2016-08-15' '2016-08-09'\n",
      " '2016-08-23' '2016-08-08' '2016-08-13' '2016-08-12' '2016-08-22'\n",
      " '2016-08-18' '2016-08-16' '2016-08-17' '2016-08-24' '2016-08-25'\n",
      " '2016-08-20' '2016-08-29' '2016-08-21' '2016-08-30' '2016-08-26'\n",
      " '2016-08-28' '2016-08-31' '2016-09-02' '2016-09-06' '2016-09-01'\n",
      " '2016-09-15' '2016-09-03' '2016-09-16' '2016-09-05' '2016-09-09'\n",
      " '2016-09-20' '2016-09-04' '2016-09-11' '2016-09-13' '2016-09-14'\n",
      " '2016-09-10' '2016-09-07' '2016-09-29' '2016-09-19' '2016-09-08'\n",
      " '2016-09-21' '2016-09-12' '2016-09-18' '2016-09-27' '2016-09-24'\n",
      " '2016-09-17' '2016-09-25' '2016-09-26' '2016-09-28' '2016-09-22'\n",
      " '2016-09-23' '2016-09-30']\n",
      "\n",
      "\n",
      "Unique values in City_Code:\n",
      "['C10001' 'C10003' 'C10125' 'C10477' 'C10002' 'C10402' 'C10022' 'C10014'\n",
      " 'C10030' 'C10032' 'C10019' 'C10006' 'C10016' 'C10004' 'C10051' 'C10024'\n",
      " 'C10005' 'C10097' 'C10007' 'C10712' 'C10015' 'C10023' 'C10027' 'C10013'\n",
      " 'C10020' 'C10036' 'C10008' 'C10031' 'C10210' 'C10121' 'C10162' 'C10017'\n",
      " 'C10010' 'C10028' 'C10011' 'C10009' 'C10169' 'C10069' 'C10283' 'C10492'\n",
      " 'C10519' 'C10376' 'C10018' 'C10140' 'C10260' 'C10251' 'C10434' 'C10148'\n",
      " 'C10039' 'C10021' 'C10221' 'C10268' 'C10167' 'C10112' 'C10103' 'C10091'\n",
      " 'C10094' 'C10060' 'C10033' 'C10130' 'C10040' 'C10263' 'C10072' 'C10054'\n",
      " 'C10064' 'C10093' 'C10042' 'C10314' 'C10487' 'C10449' 'C10025' 'C10107'\n",
      " 'C10573' 'C10110' 'C10645' 'C10063' 'C10066' 'C10203' 'C10074' 'C10034'\n",
      " 'C10255' 'C10084' 'C10012' 'C10611' 'C10333' 'C10073' 'C10340' 'C10044'\n",
      " 'C10229' 'C10109' 'C10293' 'C10050' 'C10075' 'C10420' 'C10026' 'C10177'\n",
      " 'C10176' 'C10149' 'C10132' 'C10254' 'C10286' 'C10172' 'C10045' 'C10258'\n",
      " 'C10158' 'C10486' 'C10081' 'C10029' 'C10043' 'C10274' 'C10357' 'C10059'\n",
      " 'C10035' 'C10159' 'C10168' 'C10326' 'C10424' 'C10105' 'C10401' 'C10133'\n",
      " 'C10523' 'C10280' 'C10170' 'C10252' 'C10134' 'C10046' 'C10124' 'C10038'\n",
      " 'C10327' 'C10083' 'C10243' 'C10142' 'C10175' 'C10115' 'C10331' 'C10129'\n",
      " 'C10256' 'C10364' 'C10048' 'C10195' 'C10062' 'C10151' 'C10413' 'C10147'\n",
      " 'C10215' 'C10078' 'C10095' 'C10223' 'C10058' 'C10419' 'C10447' 'C10199'\n",
      " 'C10213' 'C10092' 'C10309' 'C10067' 'C10334' 'C10301' 'C10516' 'C10242'\n",
      " 'C10513' 'C10551' 'C10511' 'C10372' 'C10090' 'C10365' 'C10099' 'C10127'\n",
      " 'C10217' 'C10386' 'C10065' 'C10087' 'C10108' 'C10071' 'C10462' 'C10068'\n",
      " 'C10232' 'C10276' 'C10491' 'C10662' 'C10231' 'C10128' 'C10506' 'C10061'\n",
      " 'C10041' 'C10154' 'C10186' 'C10204' 'C10479' 'C10637' 'C10183' 'C10182'\n",
      " 'C10118' 'C10329' 'C10230' 'C10237' 'C10070' 'C10480' 'C10131' 'C10179'\n",
      " 'C10410' 'C10241' 'C10476' 'C10302' 'C10171' 'C10049' 'C10336' 'C10085'\n",
      " 'C10363' 'C10056' 'C10325' 'C10370' 'C10157' 'C10194' 'C10207' 'C10304'\n",
      " 'C10347' 'C10052' 'C10214' 'C10189' 'C10305' 'C10053' 'C10150' 'C10470'\n",
      " 'C10098' 'C10088' 'C10119' 'C10642' 'C10192' 'C10699' 'C10089' 'C10077'\n",
      " 'C10406' 'C10576' 'C10152' 'C10408' 'C10178' 'C10037' 'C10236' 'C10248'\n",
      " 'C10047' 'C10086' 'C10198' 'C10416' 'C10345' 'C10655' 'C10102' 'C10114'\n",
      " 'C10509' 'C10174' 'C10313' 'C10297' 'C10267' 'C10100' 'C10374' 'C10253'\n",
      " 'C10190' 'C10448' 'C10106' 'C10561' 'C10501' 'C10552' 'C10144' 'C10259'\n",
      " 'C10163' 'C10530' 'C10208' 'C10055' 'C10057' 'C10238' 'C10188' 'C10375'\n",
      " 'C10278' 'C10136' 'C10560' 'C10184' 'C10116' 'C10197' 'C10675' 'C10173'\n",
      " 'C10310' 'C10146' 'C10122' 'C10126' 'C10219' 'C10271' 'C10145' 'C10216'\n",
      " 'C10269' 'C10218' 'C10520' 'C10201' 'C10120' 'C10185' 'C10337' 'C10160'\n",
      " 'C10291' 'C10257' 'C10079' 'C10080' 'C10391' 'C10153' 'C10096' 'C10135'\n",
      " 'C10249' 'C10672' 'C10082' 'C10589' 'C10290' 'C10076' 'C10138' 'C10436'\n",
      " 'C10239' 'C10586' 'C10191' 'C10348' 'C10415' 'C10111' 'C10247' 'C10367'\n",
      " 'C10206' 'C10582' 'C10330' 'C10235' 'C10220' 'C10264' 'C10453' 'C10104'\n",
      " 'C10467' 'C10460' 'C10209' 'C10377' 'C10605' 'C10366' 'C10299' 'C10499'\n",
      " 'C10494' 'C10141' 'C10461' 'C10187' 'C10430' 'C10522' 'C10373' 'C10497'\n",
      " 'C10566' 'C10508' 'C10205' 'C10500' 'C10155' 'C10113' 'C10165' 'C10200'\n",
      " 'C10540' 'C10437' 'C10438' 'C10608' 'C10240' 'C10346' 'C10156' 'C10193'\n",
      " 'C10445' 'C10644' 'C10245' 'C10399' 'C10117' 'C10137' 'C10369' 'C10161'\n",
      " 'C10388' 'C10164' 'C10292' 'C10320' 'C10181' 'C10355' 'C10143' 'C10341'\n",
      " 'C10353' 'C10403' 'C10587' 'C10288' 'C10464' 'C10720' 'C10261' 'C10615'\n",
      " 'C10394' 'C10244' 'C10404' 'C10504' 'C10383' 'C10359' 'C10289' 'C10282'\n",
      " 'C10677' 'C10425' 'C10490' 'C10295' 'C10351' 'C10392' 'C10427' 'C10459'\n",
      " 'C10426' 'C10180' 'C10393' 'C10308' 'C10518' 'C10471' 'C10395' 'C10640'\n",
      " 'C10321' 'C10318' 'C10695' 'C10287' 'C10212' 'C10270' 'C10618' 'C10123'\n",
      " 'C10226' 'C10503' 'C10653' 'C10224' 'C10281' 'C10433' 'C10273' 'C10139'\n",
      " 'C10601' 'C10380' 'C10338' 'C10481' 'C10524' 'C10352' 'C10306' 'C10451'\n",
      " 'C10378' 'C10536' 'C10389' 'C10284' 'C10660' 'C10547' 'C10233' 'C10272'\n",
      " 'C10344' 'C10300' 'C10211' 'C10444' 'C10502' 'C10362' 'C10468' 'C10312'\n",
      " 'C10315' 'C10246' 'C10339' 'C10368' 'C10397' 'C10620' 'C10319' 'C10629'\n",
      " nan 'C10294' 'C10473' 'C10349' 'C10454' 'C10535' 'C10622' 'C10572'\n",
      " 'C10228' 'C10488' 'C10603' 'C10579' 'C10548' 'C10544' 'C10356' 'C10439'\n",
      " 'C10627' 'C10521' 'C10332' 'C10303' 'C10285' 'C10222' 'C10443' 'C10604'\n",
      " 'C10317' 'C10541' 'C10442' 'C10360' 'C10166' 'C10527' 'C10478' 'C10651'\n",
      " 'C10472' 'C10350' 'C10616' 'C10598' 'C10266' 'C10557' 'C10227' 'C10546'\n",
      " 'C10578' 'C10577' 'C10452' 'C10498' 'C10619' 'C10532' 'C10322' 'C10569'\n",
      " 'C10517' 'C10634' 'C10407' 'C10715' 'C10101' 'C10335' 'C10525' 'C10681'\n",
      " 'C10428' 'C10643' 'C10421' 'C10455' 'C10298' 'C10647' 'C10528' 'C10466'\n",
      " 'C10405' 'C10456' 'C10610' 'C10474' 'C10409' 'C10396' 'C10594' 'C10382'\n",
      " 'C10537' 'C10225' 'C10609' 'C10441' 'C10463' 'C10316' 'C10684' 'C10279'\n",
      " 'C10668' 'C10581' 'C10457' 'C10624' 'C10440' 'C10512' 'C10431' 'C10250'\n",
      " 'C10400' 'C10458' 'C10562' 'C10613' 'C10621' 'C10371' 'C10411' 'C10505'\n",
      " 'C10323' 'C10275' 'C10414' 'C10343' 'C10277' 'C10342' 'C10262' 'C10545'\n",
      " 'C10515' 'C10202' 'C10384' 'C10607' 'C10533' 'C10324' 'C10664' 'C10422'\n",
      " 'C10381' 'C10570' 'C10475' 'C10708' 'C10700' 'C10387' 'C10484' 'C10565'\n",
      " 'C10432' 'C10575' 'C10659' 'C10398' 'C10423' 'C10469' 'C10354' 'C10418'\n",
      " 'C10379' 'C10234' 'C10296' 'C10196' 'C10265' 'C10558' 'C10722' 'C10429'\n",
      " 'C10385' 'C10307' 'C10361' 'C10588' 'C10510' 'C10665' 'C10311' 'C10564'\n",
      " 'C10495' 'C10690' 'C10606' 'C10633' 'C10417' 'C10446' 'C10571' 'C10648'\n",
      " 'C10714' 'C10465' 'C10483' 'C10450' 'C10585' 'C10328' 'C10489' 'C10358'\n",
      " 'C10514' 'C10559' 'C10631' 'C10507' 'C10654' 'C10493' 'C10674' 'C10635'\n",
      " 'C10412' 'C10482' 'C10496' 'C10534' 'C10539' 'C10599' 'C10617' 'C10602'\n",
      " 'C10646' 'C10663' 'C10543' 'C10390' 'C10555' 'C10628' 'C10597' 'C10689'\n",
      " 'C10580' 'C10709' 'C10531' 'C10595' 'C10661' 'C10529' 'C10554' 'C10600'\n",
      " 'C10667' 'C10638' 'C10702' 'C10593' 'C10680' 'C10641' 'C10713' 'C10526'\n",
      " 'C10591' 'C10553' 'C10574' 'C10592' 'C10682' 'C10550' 'C10583' 'C10542'\n",
      " 'C10485' 'C10650' 'C10658' 'C10435' 'C10596' 'C10692' 'C10563' 'C10612'\n",
      " 'C10717' 'C10626' 'C10693' 'C10673' 'C10685' 'C10676' 'C10686']\n",
      "\n",
      "\n",
      "Unique values in City_Category:\n",
      "['A' 'C' 'B' nan]\n",
      "\n",
      "\n",
      "Unique values in Employer_Code:\n",
      "['COM0044082' 'COM0000002' 'COM0005267' ... 'COM0030433' 'COM0011185'\n",
      " 'COM0045789']\n",
      "\n",
      "\n",
      "Unique values in Employer_Category1:\n",
      "['A' 'C' 'B' nan]\n",
      "\n",
      "\n",
      "Unique values in Employer_Category2:\n",
      "[ 4.  1.  3.  2. nan]\n",
      "\n",
      "\n",
      "Unique values in Monthly_Income:\n",
      "[2000.  3500.  2250.  ... 5152.4 7190.1 9893. ]\n",
      "\n",
      "\n",
      "Unique values in Customer_Existing_Primary_Bank_Code:\n",
      "['B001' 'B002' 'B003' 'B014' 'B006' 'B017' nan 'B004' 'B023' 'B011' 'B022'\n",
      " 'B009' 'B021' 'B016' 'B033' 'B043' 'B005' 'B028' 'B008' 'B047' 'B024'\n",
      " 'B032' 'B010' 'B020' 'B031' 'B025' 'B018' 'B007' 'B012' 'B039' 'B015'\n",
      " 'B026' 'B030' 'B037' 'B045' 'B041' 'B013' 'B044' 'B019' 'B036' 'B042'\n",
      " 'B027' 'B038' 'B034' 'B035' 'B040' 'B029' 'B046' 'B055' 'B049' 'B048'\n",
      " 'B050' 'B051' 'B056' 'B053' 'B054' 'B052' 'B057']\n",
      "\n",
      "\n",
      "Unique values in Primary_Bank_Type:\n",
      "['P' 'G' nan]\n",
      "\n",
      "\n",
      "Unique values in Contacted:\n",
      "['N' 'Y']\n",
      "\n",
      "\n",
      "Unique values in Source:\n",
      "['S122' 'S143' 'S134' 'S133' 'S159' 'S137' 'S127' 'S144' 'S123' 'S156'\n",
      " 'S151' 'S153' 'S124' 'S161' 'S139' 'S154' 'S157' 'S162' 'S141' 'S158'\n",
      " 'S129' 'S136' 'S130' 'S138' 'S155' 'S150' 'S160' 'S135' 'S140']\n",
      "\n",
      "\n",
      "Unique values in Source_Category:\n",
      "['G' 'B' 'C' 'E' 'F' 'D' 'A']\n",
      "\n",
      "\n",
      "Unique values in Existing_EMI:\n",
      "[   0.  2500.   460.  ...  754.7 1854.9 2364.8]\n",
      "\n",
      "\n",
      "Unique values in Loan_Amount:\n",
      "[     0.  20000.  45000.  92000.  50000. 130000.  30000.  66000. 104000.\n",
      "  74000.  26000. 100000.  98000.  40000.  69000.  36000. 180000.  61000.\n",
      "  60000.  56000.   5000.  44000.  10000.  94000.  11000.  29000.  24000.\n",
      "  35000.  37000.  54000.  59000.  32000.  64000.  95000.  38000. 240000.\n",
      " 116000.  25000.  28000.  41000.  17000.  15000.  70000.  49000.  51000.\n",
      "  33000.  63000.  68000. 112000.  47000.  88000.  43000. 150000.  62000.\n",
      "  34000.  39000.  42000.  72000.  82000.  22000. 107000.  52000.  85000.\n",
      "  31000.   8000.  79000.  57000.  65000. 120000.  12000.  84000. 230000.\n",
      " 108000.  77000. 101000. 110000.  14000.  21000.  99000.  80000.  53000.\n",
      "  96000.  27000.  23000.  13000. 181000.  19000.  46000. 200000.  73000.\n",
      " 126000.  48000.  55000.  81000. 137000.  93000.  18000.   7000.  91000.\n",
      "  58000.  71000. 119000. 139000.  90000.   6000. 250000. 117000. 105000.\n",
      "  75000. 118000. 158000.  97000. 153000.  16000.  87000. 237000.  67000.\n",
      "  89000. 160000.  86000. 102000. 114000. 163000.  83000. 208000. 144000.\n",
      "  78000. 121000. 132000.  76000. 109000.   9000. 198000. 162000. 133000.\n",
      " 172000. 145000. 188000. 143000. 111000. 199000. 125000. 124000. 167000.\n",
      " 147000. 113000. 115000. 103000. 127000. 128000. 142000. 106000. 140000.\n",
      " 146000. 186000. 164000. 131000. 189000. 241000. 173000. 135000. 174000.\n",
      " 149000. 157000. 177000. 136000. 122000. 193000. 148000. 247000. 229000.\n",
      " 214000. 166000. 170000. 197000. 159000. 227000. 141000. 138000. 155000.\n",
      " 175000. 300000. 257000. 225000. 161000. 203000. 191000. 234000. 169000.\n",
      " 123000. 246000. 264000. 134000. 248000. 152000. 185000. 210000.]\n",
      "\n",
      "\n",
      "Unique values in Loan_Period:\n",
      "[0. 2. 4. 5. 3. 1. 6.]\n",
      "\n",
      "\n",
      "Unique values in Interest_Rate:\n",
      "[  nan 13.25 14.85 18.25 20.   18.   15.5  19.   13.99 31.   16.75 14.75\n",
      " 24.   18.5  32.5  13.75 13.5  16.5  15.75 23.5  13.49 15.   14.   13.\n",
      " 19.75 14.99 15.99 16.   17.5  17.   16.25 21.5  12.99 14.5  25.5  15.35\n",
      " 14.25 14.8  17.75 27.5  29.5  28.5  15.49 14.3  14.49 26.5  23.   19.05\n",
      " 22.   18.4  16.35 27.   15.6  15.25 14.55 15.8  15.1  31.5  35.5  37.\n",
      " 33.   15.7  29.   28.   24.5  30.5  18.15 16.2  11.99 16.15 15.15 14.9\n",
      " 20.5 ]\n",
      "\n",
      "\n",
      "Unique values in EMI:\n",
      "[  nan  953. 3082. ... 4026. 4615. 2081.]\n",
      "\n",
      "\n",
      "Unique values in Var1:\n",
      "[ 0 10  7  4  2]\n",
      "\n",
      "\n",
      "Unique values in Approved:\n",
      "[0 1]\n",
      "\n",
      "\n"
     ]
    }
   ],
   "source": [
    "# Loop through all columns and display unique values\n",
    "for col in df.columns:\n",
    "    print(f\"Unique values in {col}:\")\n",
    "    print(df[col].unique())\n",
    "    print(\"\\n\")"
   ]
  },
  {
   "cell_type": "code",
   "execution_count": 21,
   "id": "df5041f7-5254-440e-842b-b371f6372eb0",
   "metadata": {},
   "outputs": [],
   "source": [
    "# Handle missing values in categorical columns\n",
    "categorical_cols = ['City_Category', 'Employer_Category1', 'Employer_Category2', 'Primary_Bank_Type']\n",
    "df[categorical_cols] = df[categorical_cols].fillna('Unknown')"
   ]
  },
  {
   "cell_type": "code",
   "execution_count": 23,
   "id": "66278b57-c715-44a9-b183-c4cb2ce9afef",
   "metadata": {},
   "outputs": [],
   "source": [
    "# Option 1: Fill NaN with 0\n",
    "numeric_cols = ['Monthly_Income', 'Existing_EMI', 'Loan_Amount', 'Loan_Period', 'Interest_Rate', 'EMI']\n",
    "df[numeric_cols] = df[numeric_cols].fillna(0)"
   ]
  },
  {
   "cell_type": "code",
   "execution_count": 24,
   "id": "a1f53c86-b489-49af-a099-754c1288bcb8",
   "metadata": {},
   "outputs": [],
   "source": [
    "# Convert numeric columns to numeric type (in case any columns are still treated as objects)\n",
    "df[numeric_cols] = df[numeric_cols].apply(pd.to_numeric, errors='coerce')"
   ]
  },
  {
   "cell_type": "code",
   "execution_count": 25,
   "id": "4d32ee2c-ca76-46bf-b0b4-8ec7c0e9dc60",
   "metadata": {},
   "outputs": [],
   "source": [
    "# Save the cleaned DataFrame to CSV\n",
    "df.to_csv(r'C:/ProgramData/MySQL/MySQL Server 8.0/Uploads/cleaned_loanData_cleaned.csv', index=False)"
   ]
  },
  {
   "cell_type": "code",
   "execution_count": 26,
   "id": "8f312bd5-d886-4cc1-b3f4-520c40a8e91e",
   "metadata": {},
   "outputs": [
    {
     "name": "stdout",
     "output_type": "stream",
     "text": [
      "[ 0.   13.25 14.85 18.25 20.   18.   15.5  19.   13.99 31.   16.75 14.75\n",
      " 24.   18.5  32.5  13.75 13.5  16.5  15.75 23.5  13.49 15.   14.   13.\n",
      " 19.75 14.99 15.99 16.   17.5  17.   16.25 21.5  12.99 14.5  25.5  15.35\n",
      " 14.25 14.8  17.75 27.5  29.5  28.5  15.49 14.3  14.49 26.5  23.   19.05\n",
      " 22.   18.4  16.35 27.   15.6  15.25 14.55 15.8  15.1  31.5  35.5  37.\n",
      " 33.   15.7  29.   28.   24.5  30.5  18.15 16.2  11.99 16.15 15.15 14.9\n",
      " 20.5 ]\n"
     ]
    }
   ],
   "source": [
    "# Check unique values in the 'Interest_Rate' column\n",
    "print(df['Interest_Rate'].unique())"
   ]
  },
  {
   "cell_type": "code",
   "execution_count": 28,
   "id": "e22f6729-a3df-4add-957d-750d442fa5b7",
   "metadata": {},
   "outputs": [],
   "source": [
    "# Replace empty strings with NaN and directly assign back to the column\n",
    "df['Interest_Rate'] = df['Interest_Rate'].replace('', pd.NA)"
   ]
  },
  {
   "cell_type": "code",
   "execution_count": 29,
   "id": "366014ee-75ef-4c07-9e31-2079959f7d67",
   "metadata": {},
   "outputs": [],
   "source": [
    "# Convert to numeric, coercing any invalid values to NaN\n",
    "df['Interest_Rate'] = pd.to_numeric(df['Interest_Rate'], errors='coerce')"
   ]
  },
  {
   "cell_type": "code",
   "execution_count": 30,
   "id": "3c5da1b2-e520-4822-ab0e-7e4ccd4a8503",
   "metadata": {},
   "outputs": [],
   "source": [
    "# Save the cleaned DataFrame to a new CSV\n",
    "df.to_csv(r'C:/ProgramData/MySQL/MySQL Server 8.0/Uploads/cleaned_loanData_cleaned.csv', index=False)"
   ]
  },
  {
   "cell_type": "code",
   "execution_count": 31,
   "id": "e5abf37e-21b1-407c-b76b-072f1fa5abd8",
   "metadata": {},
   "outputs": [
    {
     "name": "stdout",
     "output_type": "stream",
     "text": [
      "[ 0.   13.25 14.85 18.25 20.   18.   15.5  19.   13.99 31.   16.75 14.75\n",
      " 24.   18.5  32.5  13.75 13.5  16.5  15.75 23.5  13.49 15.   14.   13.\n",
      " 19.75 14.99 15.99 16.   17.5  17.   16.25 21.5  12.99 14.5  25.5  15.35\n",
      " 14.25 14.8  17.75 27.5  29.5  28.5  15.49 14.3  14.49 26.5  23.   19.05\n",
      " 22.   18.4  16.35 27.   15.6  15.25 14.55 15.8  15.1  31.5  35.5  37.\n",
      " 33.   15.7  29.   28.   24.5  30.5  18.15 16.2  11.99 16.15 15.15 14.9\n",
      " 20.5 ]\n"
     ]
    }
   ],
   "source": [
    "# Check unique values in the 'Interest_Rate' column\n",
    "print(df['Interest_Rate'].unique())\n"
   ]
  },
  {
   "cell_type": "code",
   "execution_count": 32,
   "id": "851603d4-befd-44b9-807e-5944cd0af3b5",
   "metadata": {},
   "outputs": [
    {
     "name": "stdout",
     "output_type": "stream",
     "text": [
      "Empty DataFrame\n",
      "Columns: [ID, Gender, DOB, Lead_Creation_Date, City_Code, City_Category, Employer_Code, Employer_Category1, Employer_Category2, Monthly_Income, Customer_Existing_Primary_Bank_Code, Primary_Bank_Type, Contacted, Source, Source_Category, Existing_EMI, Loan_Amount, Loan_Period, Interest_Rate, EMI, Var1, Approved]\n",
      "Index: []\n",
      "\n",
      "[0 rows x 22 columns]\n",
      "Empty DataFrame\n",
      "Columns: [ID, Gender, DOB, Lead_Creation_Date, City_Code, City_Category, Employer_Code, Employer_Category1, Employer_Category2, Monthly_Income, Customer_Existing_Primary_Bank_Code, Primary_Bank_Type, Contacted, Source, Source_Category, Existing_EMI, Loan_Amount, Loan_Period, Interest_Rate, EMI, Var1, Approved]\n",
      "Index: []\n",
      "\n",
      "[0 rows x 22 columns]\n"
     ]
    }
   ],
   "source": [
    "# Check for any rows with empty strings in the Interest_Rate column\n",
    "empty_interest_rate_rows = df[df['Interest_Rate'] == '']\n",
    "print(empty_interest_rate_rows)\n",
    "\n",
    "# Check for any rows with NaN values in the Interest_Rate column\n",
    "nan_interest_rate_rows = df[df['Interest_Rate'].isna()]\n",
    "print(nan_interest_rate_rows)"
   ]
  },
  {
   "cell_type": "code",
   "execution_count": 33,
   "id": "2755ec1b-4f86-42c5-9d08-1ec1ce9f1ba2",
   "metadata": {},
   "outputs": [
    {
     "name": "stdout",
     "output_type": "stream",
     "text": [
      "ID                                      object\n",
      "Gender                                  object\n",
      "DOB                                     object\n",
      "Lead_Creation_Date                      object\n",
      "City_Code                               object\n",
      "City_Category                           object\n",
      "Employer_Code                           object\n",
      "Employer_Category1                      object\n",
      "Employer_Category2                      object\n",
      "Monthly_Income                         float64\n",
      "Customer_Existing_Primary_Bank_Code     object\n",
      "Primary_Bank_Type                       object\n",
      "Contacted                               object\n",
      "Source                                  object\n",
      "Source_Category                         object\n",
      "Existing_EMI                           float64\n",
      "Loan_Amount                            float64\n",
      "Loan_Period                            float64\n",
      "Interest_Rate                          float64\n",
      "EMI                                    float64\n",
      "Var1                                     int64\n",
      "Approved                                 int64\n",
      "dtype: object\n"
     ]
    }
   ],
   "source": [
    "# Check data types of the DataFrame\n",
    "print(df.dtypes)"
   ]
  },
  {
   "cell_type": "code",
   "execution_count": 35,
   "id": "6302ba97-55d1-424c-ac23-70989812da2e",
   "metadata": {},
   "outputs": [
    {
     "name": "stdout",
     "output_type": "stream",
     "text": [
      "Empty DataFrame\n",
      "Columns: [ID, Gender, DOB, Lead_Creation_Date, City_Code, City_Category, Employer_Code, Employer_Category1, Employer_Category2, Monthly_Income, Customer_Existing_Primary_Bank_Code, Primary_Bank_Type, Contacted, Source, Source_Category, Existing_EMI, Loan_Amount, Loan_Period, Interest_Rate, EMI, Var1, Approved]\n",
      "Index: []\n",
      "\n",
      "[0 rows x 22 columns]\n",
      "                    ID  Gender         DOB Lead_Creation_Date City_Code  \\\n",
      "0      APPC90493171225  Female  1979-07-23         2016-07-15    C10001   \n",
      "2      APPE70289249423    Male  1982-12-10         2016-07-19    C10125   \n",
      "3      APPF80273865537    Male  1989-01-30         2016-07-09    C10477   \n",
      "4      APPG60994436641    Male  1985-04-19         2016-07-20    C10002   \n",
      "5      APPI90914237819  Female  1988-12-23         2016-07-01    C10402   \n",
      "...                ...     ...         ...                ...       ...   \n",
      "69705  APPR50947529333    Male  1991-08-01         2016-09-30    C10002   \n",
      "69707  APPT50870248519    Male  1991-03-03         2016-09-30    C10041   \n",
      "69708  APPU90955789628  Female  1983-07-31         2016-09-30    C10006   \n",
      "69709  APPV80989824738  Female  1971-01-27         2016-09-30    C10116   \n",
      "69711  APPY50870035036    Male  1978-06-27         2016-09-30    C10002   \n",
      "\n",
      "      City_Category Employer_Code Employer_Category1  Employer_Category2  \\\n",
      "0                 A    COM0044082                  A                 4.0   \n",
      "2                 C    COM0005267                  C                 4.0   \n",
      "3                 C    COM0004143                  A                 4.0   \n",
      "4                 A    COM0001781                  A                 4.0   \n",
      "5                 C    COM0007740                  A                 4.0   \n",
      "...             ...           ...                ...                 ...   \n",
      "69705             A    COM0000169                  A                 4.0   \n",
      "69707             C    COM0000009                  A                 1.0   \n",
      "69708             A    COM0000010                  A                 1.0   \n",
      "69709             C    COM0045789                  A                 4.0   \n",
      "69711             A    COM0000098                  C                 3.0   \n",
      "\n",
      "       Monthly_Income  ... Contacted Source Source_Category Existing_EMI  \\\n",
      "0              2000.0  ...         N   S122               G          0.0   \n",
      "2              2250.0  ...         Y   S143               B          0.0   \n",
      "3              3500.0  ...         Y   S143               B          0.0   \n",
      "4             10000.0  ...         Y   S134               B       2500.0   \n",
      "5              7000.0  ...         N   S133               B          0.0   \n",
      "...               ...  ...       ...    ...             ...          ...   \n",
      "69705          1500.0  ...         Y   S122               G          0.0   \n",
      "69707          2400.0  ...         Y   S122               G          0.0   \n",
      "69708          4900.0  ...         N   S122               G          0.0   \n",
      "69709          7190.1  ...         N   S122               G       1450.0   \n",
      "69711          9893.0  ...         Y   S122               G       1366.0   \n",
      "\n",
      "      Loan_Amount  Loan_Period  Interest_Rate  EMI  Var1  Approved  \n",
      "0             0.0          0.0            NaN  NaN     0         0  \n",
      "2         45000.0          4.0            NaN  NaN     0         0  \n",
      "3         92000.0          5.0            NaN  NaN     7         0  \n",
      "4         50000.0          2.0            NaN  NaN    10         0  \n",
      "5             0.0          0.0            NaN  NaN     0         0  \n",
      "...           ...          ...            ...  ...   ...       ...  \n",
      "69705     24000.0          4.0            NaN  NaN     2         0  \n",
      "69707     30000.0          3.0            NaN  NaN     2         0  \n",
      "69708         0.0          0.0            NaN  NaN    10         0  \n",
      "69709         0.0          0.0            NaN  NaN     7         0  \n",
      "69711     80000.0          5.0            NaN  NaN    10         0  \n",
      "\n",
      "[47437 rows x 22 columns]\n"
     ]
    }
   ],
   "source": [
    "import pandas as pd\n",
    "\n",
    "# Load the CSV to check the content\n",
    "df = pd.read_csv(r'C:/ProgramData/MySQL/MySQL Server 8.0/Uploads/cleaned_loanData.csv')\n",
    "\n",
    "# Check for any empty strings in the Interest_Rate column\n",
    "empty_interest_rate = df[df['Interest_Rate'] == '']\n",
    "print(empty_interest_rate)\n",
    "\n",
    "# Also, check for NaN values\n",
    "nan_interest_rate = df[df['Interest_Rate'].isna()]\n",
    "print(nan_interest_rate)"
   ]
  },
  {
   "cell_type": "code",
   "execution_count": 37,
   "id": "1b008912-9ca5-4199-8178-f1511d6d571f",
   "metadata": {},
   "outputs": [],
   "source": [
    "# Fill NaN values in Interest_Rate with 0 and assign back to the column\n",
    "df['Interest_Rate'] = df['Interest_Rate'].fillna(0)"
   ]
  },
  {
   "cell_type": "code",
   "execution_count": 38,
   "id": "4210df91-169c-4a53-a9b0-adc72b16dad5",
   "metadata": {},
   "outputs": [],
   "source": [
    "# Save the cleaned DataFrame to a new CSV\n",
    "df.to_csv(r'C:/ProgramData/MySQL/MySQL Server 8.0/Uploads/cleaned_loanData_cleaned.csv', index=False)"
   ]
  },
  {
   "cell_type": "code",
   "execution_count": 39,
   "id": "73c6f3c3-6039-4ce7-9f00-bc35c6e23869",
   "metadata": {},
   "outputs": [
    {
     "name": "stdout",
     "output_type": "stream",
     "text": [
      "Missing values in each column:\n",
      "ID                                         0\n",
      "Gender                                     0\n",
      "DOB                                       15\n",
      "Lead_Creation_Date                         0\n",
      "City_Code                                814\n",
      "City_Category                            814\n",
      "Employer_Code                           4018\n",
      "Employer_Category1                      4018\n",
      "Employer_Category2                      4298\n",
      "Monthly_Income                             0\n",
      "Customer_Existing_Primary_Bank_Code     9391\n",
      "Primary_Bank_Type                       9391\n",
      "Contacted                                  0\n",
      "Source                                     0\n",
      "Source_Category                            0\n",
      "Existing_EMI                              51\n",
      "Loan_Amount                                0\n",
      "Loan_Period                                0\n",
      "Interest_Rate                              0\n",
      "EMI                                    47437\n",
      "Var1                                       0\n",
      "Approved                                   0\n",
      "dtype: int64\n"
     ]
    }
   ],
   "source": [
    "# Check for missing values in each column\n",
    "missing_values = df.isnull().sum()\n",
    "print(\"Missing values in each column:\")\n",
    "print(missing_values)"
   ]
  },
  {
   "cell_type": "code",
   "execution_count": 40,
   "id": "4a4042f5-d28b-44d4-bf0e-16e1bbfe8620",
   "metadata": {},
   "outputs": [],
   "source": [
    "# Fill missing values in numeric columns with 0\n",
    "numeric_cols = df.select_dtypes(include=['float64', 'int64']).columns\n",
    "df[numeric_cols] = df[numeric_cols].fillna(0)  # Replace NaN with 0"
   ]
  },
  {
   "cell_type": "code",
   "execution_count": 42,
   "id": "a3a8e7f1-e218-4565-bbcf-82f4b4bef23d",
   "metadata": {},
   "outputs": [],
   "source": [
    "# For categorical columns, replace NaN with 'Unknown'\n",
    "categorical_cols = df.select_dtypes(include=['object']).columns\n",
    "for col in categorical_cols:\n",
    "    df[col] = df[col].fillna('Unknown')  # Fill NaN with 'Unknown'"
   ]
  },
  {
   "cell_type": "code",
   "execution_count": 43,
   "id": "3643384e-c7dd-4362-a3a3-924763c01bfc",
   "metadata": {},
   "outputs": [
    {
     "name": "stdout",
     "output_type": "stream",
     "text": [
      "\n",
      "Remaining NaN values in DataFrame after cleaning:\n",
      "ID                                     0\n",
      "Gender                                 0\n",
      "DOB                                    0\n",
      "Lead_Creation_Date                     0\n",
      "City_Code                              0\n",
      "City_Category                          0\n",
      "Employer_Code                          0\n",
      "Employer_Category1                     0\n",
      "Employer_Category2                     0\n",
      "Monthly_Income                         0\n",
      "Customer_Existing_Primary_Bank_Code    0\n",
      "Primary_Bank_Type                      0\n",
      "Contacted                              0\n",
      "Source                                 0\n",
      "Source_Category                        0\n",
      "Existing_EMI                           0\n",
      "Loan_Amount                            0\n",
      "Loan_Period                            0\n",
      "Interest_Rate                          0\n",
      "EMI                                    0\n",
      "Var1                                   0\n",
      "Approved                               0\n",
      "dtype: int64\n"
     ]
    }
   ],
   "source": [
    "# Check for any remaining NaN values\n",
    "print(\"\\nRemaining NaN values in DataFrame after cleaning:\")\n",
    "print(df.isna().sum())"
   ]
  },
  {
   "cell_type": "code",
   "execution_count": 44,
   "id": "9036da8d-8f0a-41b1-ad9e-87c53ecf2fc4",
   "metadata": {},
   "outputs": [
    {
     "name": "stdout",
     "output_type": "stream",
     "text": [
      "Cleaned DataFrame saved to CSV.\n"
     ]
    }
   ],
   "source": [
    "# Save the cleaned DataFrame to a new CSV\n",
    "df.to_csv(r'C:/ProgramData/MySQL/MySQL Server 8.0/Uploads/cleaned_loanData_cleaned.csv', index=False)\n",
    "\n",
    "print(\"Cleaned DataFrame saved to CSV.\")"
   ]
  },
  {
   "cell_type": "code",
   "execution_count": 45,
   "id": "01b1a334-39c4-4438-b71a-20d264eb54b6",
   "metadata": {},
   "outputs": [
    {
     "name": "stdout",
     "output_type": "stream",
     "text": [
      "ID,Gender,DOB,Lead_Creation_Date,City_Code,City_Category,Employer_Code,Employer_Category1,Employer_Category2,Monthly_Income,Customer_Existing_Primary_Bank_Code,Primary_Bank_Type,Contacted,Source,Source_Category,Existing_EMI,Loan_Amount,Loan_Period,Interest_Rate,EMI,Var1,Approved\n",
      "APPC90493171225,Female,1979-07-23,2016-07-15,C10001,A,COM0044082,A,4.0,2000.0,B001,P,N,S122,G,0.0,0.0,0.0,0.0,0.0,0,0\n",
      "APPD40611263344,Male,1986-12-07,2016-07-04,C10003,A,COM0000002,C,1.0,3500.0,B002,P,Y,S122,G,0.0,20000.0,2.0,13.25,953.0,10,0\n",
      "APPE70289249423,Male,1982-12-10,2016-07-19,C10125,C,COM0005267,C,4.0,2250.0,B003,G,Y,S143,B,0.0,45000.0,4.0,0.0,0.0,0,0\n",
      "APPF80273865537,Male,1989-01-30,2016-07-09,C10477,C,COM0004143,A,4.0,3500.0,B003,G,Y,S143,B,0.0,92000.0,5.0,0.0,0.0,7,0\n",
      "APPG60994436641,Male,1985-04-19,2016-07-20,C10002,A,COM0001781,A,4.0,10000.0,B001,P,Y,S134,B,2500.0,50000.0,2.0,0.0,0.0,10,0\n",
      "APPI90914237819,Female,1988-12-23,2016-07-01,C10402,C,COM0007740,A,4.0,7000.0,B014,P,N,S133,B,0.0,0.0,0.0,0.0,0.0,0,0\n",
      "APPK80327232033,Male,1973-03-28,2016-07-02,C10022,B,COM0030526,B,4.0,7500.0,B003,G,Y,S122,C,0.0,130000.0,5.0,14.85,3082.0,10,0\n",
      "APPL20820172146,Female,1990-11-12,2016-07-03,C10003,A,COM0016738,A,4.0,3000.0,B006,P,Y,S133,B,0.0,30000.0,3.0,18.25,1088.0,0,0\n",
      "APPM30977401211,Male,1977-03-03,2016-07-02,C10003,A,COM0010626,A,4.0,2500.0,B017,G,Y,S133,B,0.0,66000.0,5.0,20.0,1749.0,7,0\n"
     ]
    }
   ],
   "source": [
    "# Read a few lines from the CSV to check for hidden issues\n",
    "with open(r'C:/ProgramData/MySQL/MySQL Server 8.0/Uploads/cleaned_loanData_cleaned.csv', 'r') as file:\n",
    "    for i in range(10):  # Read the first 10 lines\n",
    "        print(file.readline().strip())\n"
   ]
  },
  {
   "cell_type": "code",
   "execution_count": 46,
   "id": "6823a472-84c2-4e3b-8c71-8a53dbe98cf9",
   "metadata": {},
   "outputs": [
    {
     "name": "stdout",
     "output_type": "stream",
     "text": [
      "Cleaned 'Interest_Rate' unique values:\n",
      "[ 0.   13.25 14.85 18.25 20.   18.   15.5  19.   13.99 31.   16.75 14.75\n",
      " 24.   18.5  32.5  13.75 13.5  16.5  15.75 23.5  13.49 15.   14.   13.\n",
      " 19.75 14.99 15.99 16.   17.5  17.   16.25 21.5  12.99 14.5  25.5  15.35\n",
      " 14.25 14.8  17.75 27.5  29.5  28.5  15.49 14.3  14.49 26.5  23.   19.05\n",
      " 22.   18.4  16.35 27.   15.6  15.25 14.55 15.8  15.1  31.5  35.5  37.\n",
      " 33.   15.7  29.   28.   24.5  30.5  18.15 16.2  11.99 16.15 15.15 14.9\n",
      " 20.5 ]\n",
      "Cleaned 'EMI' unique values:\n",
      "[   0.  953. 3082. ... 4026. 4615. 2081.]\n"
     ]
    },
    {
     "name": "stderr",
     "output_type": "stream",
     "text": [
      "C:\\Users\\Zana\\AppData\\Local\\Temp\\ipykernel_15796\\2262032997.py:10: FutureWarning: A value is trying to be set on a copy of a DataFrame or Series through chained assignment using an inplace method.\n",
      "The behavior will change in pandas 3.0. This inplace method will never work because the intermediate object on which we are setting values always behaves as a copy.\n",
      "\n",
      "For example, when doing 'df[col].method(value, inplace=True)', try using 'df.method({col: value}, inplace=True)' or df[col] = df[col].method(value) instead, to perform the operation inplace on the original object.\n",
      "\n",
      "\n",
      "  df['Interest_Rate'].fillna(0, inplace=True)\n",
      "C:\\Users\\Zana\\AppData\\Local\\Temp\\ipykernel_15796\\2262032997.py:11: FutureWarning: A value is trying to be set on a copy of a DataFrame or Series through chained assignment using an inplace method.\n",
      "The behavior will change in pandas 3.0. This inplace method will never work because the intermediate object on which we are setting values always behaves as a copy.\n",
      "\n",
      "For example, when doing 'df[col].method(value, inplace=True)', try using 'df.method({col: value}, inplace=True)' or df[col] = df[col].method(value) instead, to perform the operation inplace on the original object.\n",
      "\n",
      "\n",
      "  df['EMI'].fillna(0, inplace=True)\n"
     ]
    }
   ],
   "source": [
    "# Clean the 'Interest_Rate' column\n",
    "df['Interest_Rate'] = df['Interest_Rate'].replace('', pd.NA)  # Replace empty strings with NaN\n",
    "df['Interest_Rate'] = pd.to_numeric(df['Interest_Rate'], errors='coerce')  # Convert to numeric\n",
    "\n",
    "# Clean the 'EMI' column\n",
    "df['EMI'] = df['EMI'].replace('', pd.NA)  # Replace empty strings with NaN\n",
    "df['EMI'] = pd.to_numeric(df['EMI'], errors='coerce')  # Convert to numeric\n",
    "\n",
    "# Fill NaN values with 0 for both columns\n",
    "df['Interest_Rate'].fillna(0, inplace=True)\n",
    "df['EMI'].fillna(0, inplace=True)\n",
    "\n",
    "# Check the cleaned columns\n",
    "print(\"Cleaned 'Interest_Rate' unique values:\")\n",
    "print(df['Interest_Rate'].unique())\n",
    "\n",
    "print(\"Cleaned 'EMI' unique values:\")\n",
    "print(df['EMI'].unique())\n"
   ]
  },
  {
   "cell_type": "code",
   "execution_count": 47,
   "id": "d97d7354-3c0a-4d02-863b-869eef278faa",
   "metadata": {},
   "outputs": [],
   "source": [
    "# Fill NaN values in 'Interest_Rate' with 0 without using inplace=True\n",
    "df['Interest_Rate'] = df['Interest_Rate'].fillna(0)\n",
    "\n",
    "# Fill NaN values in 'EMI' with 0 without using inplace=True\n",
    "df['EMI'] = df['EMI'].fillna(0)"
   ]
  },
  {
   "cell_type": "code",
   "execution_count": 48,
   "id": "79076997-a3d6-4bc5-b67a-d0928ae3fff9",
   "metadata": {},
   "outputs": [
    {
     "name": "stdout",
     "output_type": "stream",
     "text": [
      "Cleaned DataFrame saved to CSV.\n"
     ]
    }
   ],
   "source": [
    "# Save the cleaned DataFrame to a new CSV\n",
    "df.to_csv(r'C:/ProgramData/MySQL/MySQL Server 8.0/Uploads/cleaned_loanData_cleaned.csv', index=False)\n",
    "\n",
    "print(\"Cleaned DataFrame saved to CSV.\")\n"
   ]
  },
  {
   "cell_type": "code",
   "execution_count": 49,
   "id": "063cb49c-dce5-49b4-89e4-404f4596c301",
   "metadata": {},
   "outputs": [
    {
     "name": "stdout",
     "output_type": "stream",
     "text": [
      "Number of 'Unknown' entries in DOB column: 15\n"
     ]
    }
   ],
   "source": [
    "# Count occurrences of 'Unknown' in the DOB column\n",
    "unknown_dob_count = (df['DOB'] == 'Unknown').sum()\n",
    "print(f\"Number of 'Unknown' entries in DOB column: {unknown_dob_count}\")"
   ]
  },
  {
   "cell_type": "code",
   "execution_count": 50,
   "id": "a320869a-a2d1-4708-9d28-fad264a56f1d",
   "metadata": {},
   "outputs": [],
   "source": [
    "# Replace 'Unknown' in DOB with NaT (Not a Time) for date columns\n",
    "df['DOB'] = df['DOB'].replace('Unknown', pd.NaT)\n",
    "\n",
    "# Alternatively, you can fill NaT with a specific date or keep them as NaT\n",
    "# df['DOB'].fillna(pd.to_datetime('1970-01-01'), inplace=True)  # Uncomment if you want to replace NaT with a specific date"
   ]
  },
  {
   "cell_type": "code",
   "execution_count": 51,
   "id": "754b2fe9-34a7-4915-b3a9-b1ee985fdf4e",
   "metadata": {},
   "outputs": [
    {
     "name": "stdout",
     "output_type": "stream",
     "text": [
      "Cleaned DataFrame saved to CSV.\n"
     ]
    }
   ],
   "source": [
    "# Save the cleaned DataFrame to a new CSV\n",
    "df.to_csv(r'C:/ProgramData/MySQL/MySQL Server 8.0/Uploads/cleaned_loanData_cleaned.csv', index=False)\n",
    "\n",
    "print(\"Cleaned DataFrame saved to CSV.\")"
   ]
  },
  {
   "cell_type": "code",
   "execution_count": 52,
   "id": "f8b52c21-23d0-4504-b0c6-e10ceda11fc3",
   "metadata": {},
   "outputs": [
    {
     "name": "stdout",
     "output_type": "stream",
     "text": [
      "Number of empty entries in DOB column: 0\n"
     ]
    }
   ],
   "source": [
    "# Count occurrences of empty strings in the DOB column\n",
    "empty_dob_count = (df['DOB'] == '').sum()\n",
    "print(f\"Number of empty entries in DOB column: {empty_dob_count}\")"
   ]
  },
  {
   "cell_type": "code",
   "execution_count": 53,
   "id": "57d14faa-b094-4921-aad2-cfadb7ebf39e",
   "metadata": {},
   "outputs": [
    {
     "name": "stdout",
     "output_type": "stream",
     "text": [
      "ID                                     APPF70614332332\n",
      "Gender                                            Male\n",
      "DOB                                                NaT\n",
      "Lead_Creation_Date                          2016-09-05\n",
      "City_Code                                       C10004\n",
      "City_Category                                        A\n",
      "Employer_Code                                  Unknown\n",
      "Employer_Category1                             Unknown\n",
      "Employer_Category2                                 0.0\n",
      "Monthly_Income                                     0.0\n",
      "Customer_Existing_Primary_Bank_Code            Unknown\n",
      "Primary_Bank_Type                              Unknown\n",
      "Contacted                                            Y\n",
      "Source                                            S122\n",
      "Source_Category                                      G\n",
      "Existing_EMI                                       0.0\n",
      "Loan_Amount                                        0.0\n",
      "Loan_Period                                        0.0\n",
      "Interest_Rate                                      0.0\n",
      "EMI                                                0.0\n",
      "Var1                                                 0\n",
      "Approved                                             0\n",
      "Name: 48108, dtype: object\n"
     ]
    }
   ],
   "source": [
    "# Display the problematic row (row 48109)\n",
    "print(df.iloc[48108])  # Adjusted for zero-based index"
   ]
  },
  {
   "cell_type": "code",
   "execution_count": 55,
   "id": "43b80bb7-79af-477c-bf92-6dd7528323df",
   "metadata": {},
   "outputs": [],
   "source": [
    "# Replace NaT in DOB with a specific date without using inplace=True\n",
    "df['DOB'] = df['DOB'].fillna(pd.to_datetime('1970-01-01'))  # Replace NaT with a specific date"
   ]
  },
  {
   "cell_type": "code",
   "execution_count": 56,
   "id": "f4bffcf0-ae84-4624-a8ee-d5cd8a39fdab",
   "metadata": {},
   "outputs": [
    {
     "name": "stdout",
     "output_type": "stream",
     "text": [
      "Cleaned DataFrame saved to CSV.\n"
     ]
    }
   ],
   "source": [
    "# Save the cleaned DataFrame to a new CSV file\n",
    "df.to_csv(r'C:/ProgramData/MySQL/MySQL Server 8.0/Uploads/cleaned_loanData_cleaned.csv', index=False)\n",
    "\n",
    "print(\"Cleaned DataFrame saved to CSV.\")"
   ]
  },
  {
   "cell_type": "markdown",
   "id": "042fd338-ee5d-4a3a-aa7e-3eb0f4ff3a04",
   "metadata": {},
   "source": [
    "\n",
    "## **Output Summary**\n",
    "### **Data Cleaning Steps**\n",
    "1. **Handling Missing Values**:\n",
    "   - Replaced missing values in numeric columns (e.g., `Loan_Amount`, `Interest_Rate`) with `0`.\n",
    "   - Imputed missing values in categorical columns with \"Unknown\".\n",
    "   - Addressed `NaT` (Not a Time) values in the `DOB` column by replacing them with a default date (`1970-01-01`).\n",
    "\n",
    "2. **Duplicate Removal**:\n",
    "   - Removed duplicate entries to ensure data integrity. After deduplication, the dataset retained its original size of 69,713 rows, indicating no duplicates were present.\n",
    "\n",
    "3. **Data Type Conversion**:\n",
    "   - Converted `DOB` and `Lead_Creation_Date` columns to `datetime` format.\n",
    "   - Ensured numerical columns like `EMI` and `Interest_Rate` were properly formatted as `float`.\n",
    "\n",
    "4. **Standardization**:\n",
    "   - Replaced empty strings in numeric and categorical columns with appropriate values (e.g., `0` for numeric, \"Unknown\" for categorical).\n",
    "   - Standardized the `Interest_Rate` and `EMI` columns, ensuring no invalid entries.\n",
    "\n",
    "5. **Saved Cleaned Dataset**:\n",
    "   - The cleaned dataset was saved to a new CSV file: `cleaned_loanData_cleaned.csv`.\n",
    "\n",
    "---\n",
    "\n",
    "### **Final Dataset Overview**\n",
    "- **Number of Rows**: 69,713\n",
    "- **Number of Columns**: 22\n",
    "- **Missing Values**: No missing values remain after cleaning.\n",
    "- **Example Records**:\n",
    "    - `DOB`: Standardized to valid `datetime` format or replaced with `1970-01-01`.\n",
    "    - `Loan_Amount`: Replaced `NaN` values with `0` for consistency.\n",
    "    - `Interest_Rate` and `EMI`: Standardized to numerical format, ensuring no empty or invalid entries.\n"
   ]
  },
  {
   "cell_type": "code",
   "execution_count": null,
   "id": "daecdaaa-c06e-48e7-a5c5-6fa0fddf3662",
   "metadata": {},
   "outputs": [],
   "source": []
  }
 ],
 "metadata": {
  "kernelspec": {
   "display_name": "Python 3 (ipykernel)",
   "language": "python",
   "name": "python3"
  },
  "language_info": {
   "codemirror_mode": {
    "name": "ipython",
    "version": 3
   },
   "file_extension": ".py",
   "mimetype": "text/x-python",
   "name": "python",
   "nbconvert_exporter": "python",
   "pygments_lexer": "ipython3",
   "version": "3.12.5"
  }
 },
 "nbformat": 4,
 "nbformat_minor": 5
}
